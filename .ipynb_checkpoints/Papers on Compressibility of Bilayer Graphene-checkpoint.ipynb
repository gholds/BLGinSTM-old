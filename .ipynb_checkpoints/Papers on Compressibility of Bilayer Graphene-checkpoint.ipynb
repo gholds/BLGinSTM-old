{
 "cells": [
  {
   "cell_type": "markdown",
   "metadata": {},
   "source": [
    "Some notes:\n",
    "First it was McCann?\n",
    "Then Castro who showed it experimentally\n",
    "\n",
    "Notes from Victor:\n",
    "\n",
    "2 Leroy papers( Yankowitz and another onAPL)\n",
    "\n",
    "Yankowitz has his trilayer/bilayer paper and references a trilayer one that only takes gating into acconut\n",
    "\n",
    "Stroscio (Microscopic polar) is an important one\n",
    "\n",
    "Young is another name that has some results\n",
    "\n",
    "Deshpande takes into account the change of the dirac point, not the changeo f structure\n",
    "\n",
    "Jung, Park see a gap at 300 mV"
   ]
  },
  {
   "cell_type": "markdown",
   "metadata": {},
   "source": [
    "List of Papers\n",
    "\n",
    "1. Asymmetry gap in the electronic band structure of bilayer graphene (McCann 2006) ([PDF](papers/McCann2006.pdf),[DOI](https://journals.aps.org/prb/abstract/10.1103/PhysRevB.74.161403), [Notes](#McCann2006))\n",
    "2. Compresibility of Graphene (Abergel 2012) ([PDF](papers/Arbergel2012.pdf),[Notes](#Abergel2012))\n",
    "2. Compressibility of Graphene (Abergel, Hwang, Das Sarma 2011) ([PDF](papers/AbergelHwangDasSarma2011.pdf),[DOI](https://journals.aps.org/prb/abstract/10.1103/PhysRevB.83.085429), [Notes](#AbergelHwangDasSarma2011))\n",
    "3. Gate-Tunable Resonant Tunneling in Double Bilayer Graphene Heterostructures (Fallahazad et al. 2014) ([PDF](papers/Fallahazad2014.pdf),[DOI](https://pubs.acs.org/doi/abs/10.1021/nl503756y),[Notes](#Fallahazad2014))\n",
    "4. Theory of resonant tunneling in bilayer-graphene/hexagonal-boron-nitride heterostructures (de la Barrera and Feenstra 2015) ([PDF](papers/delaBarreraFeenstra2015.pdf),[DOI](https://aip.scitation.org/doi/10.1063/1.4914324),[Notes](#delaBarreraFeenstra2015))\n",
    "5. Capacitance of graphene bilayer as a probe of layer-specific properties (Young and Levitov 2011) ([PDF](papers/YoungLevitov2011.pdf),[DOI](https://journals.aps.org/prb/abstract/10.1103/PhysRevB.84.085441),[Notes](#YoungLevitov2011))\n",
    "6. Microscopic Polarization in Bilayer Graphene (Rutter et al. 2011) ([PDF](papers/Rutter2011.pdf),[Notes](#Rutter2011))"
   ]
  },
  {
   "cell_type": "markdown",
   "metadata": {},
   "source": [
    "## Asymmetry gap in electronic band structure of bilayer graphene (McCann 2006) <a id='McCann2006'></a>"
   ]
  },
  {
   "cell_type": "markdown",
   "metadata": {},
   "source": [
    "## Compressibility of Graphene (Abergel 2012) <a id='Abergel2012'></a>"
   ]
  },
  {
   "cell_type": "markdown",
   "metadata": {},
   "source": [
    "## Compressibility of Graphene (Abergel, Hwang, Das Sarma 2011) <a id='AbergelHwangDasSarma2011'></a>"
   ]
  },
  {
   "cell_type": "markdown",
   "metadata": {},
   "source": [
    "## Gate-Tunable Resonant Tunneling in Double Bilayer Graphene Heterostructures (Fallahazad et al. 2014) <a id='Fallahazad2014'></a>"
   ]
  },
  {
   "cell_type": "markdown",
   "metadata": {},
   "source": [
    "## Theory of resonant tunneling in bilayer-graphene/hexagonal-boron-nitride heterostructures (de la Barrera and Feenstra 2015) <a id='delaBarreraFeenstra2015'></a>"
   ]
  },
  {
   "cell_type": "markdown",
   "metadata": {},
   "source": [
    "## Capacitance of graphene bilayer as a probe of layer-specific properties (Young and Levitov 2011) <a id='YoungLevitov2011'></a>"
   ]
  },
  {
   "cell_type": "markdown",
   "metadata": {},
   "source": [
    "## Microscopic Polarization in Bilayer Graphene (Rutter et al. 2011) <a id='Rutter2011'></a>"
   ]
  },
  {
   "cell_type": "markdown",
   "metadata": {},
   "source": [
    "<img src='images/Rutteretal_3a.png' width='200'/>"
   ]
  }
 ],
 "metadata": {
  "kernelspec": {
   "display_name": "Python 3",
   "language": "python",
   "name": "python3"
  },
  "language_info": {
   "codemirror_mode": {
    "name": "ipython",
    "version": 3
   },
   "file_extension": ".py",
   "mimetype": "text/x-python",
   "name": "python",
   "nbconvert_exporter": "python",
   "pygments_lexer": "ipython3",
   "version": "3.6.5rc1"
  }
 },
 "nbformat": 4,
 "nbformat_minor": 2
}
