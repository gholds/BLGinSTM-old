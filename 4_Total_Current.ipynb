{
 "cells": [
  {
   "cell_type": "markdown",
   "metadata": {},
   "source": [
    "# Total Current"
   ]
  },
  {
   "cell_type": "code",
   "execution_count": 81,
   "metadata": {},
   "outputs": [],
   "source": [
    "from importlib import reload\n",
    "import Run_Experiment as re\n",
    "import numpy as np\n",
    "\n",
    "%matplotlib inline\n",
    "import matplotlib.pyplot as plt"
   ]
  },
  {
   "cell_type": "code",
   "execution_count": 99,
   "metadata": {},
   "outputs": [
    {
     "data": {
      "image/png": "[encoded data removed]",
      "text/plain": [
       "<Figure size 432x288 with 1 Axes>"
      ]
     },
     "metadata": {},
     "output_type": "display_data"
    }
   ],
   "source": [
    "reload(re)\n",
    "\n",
    "re.setup_experiment(1,305,1,3.9,0,5)\n",
    "\n",
    "VT = 0.1\n",
    "vminus = 0.05\n",
    "\n",
    "vplus = np.linspace(-0.1,0.1, num=100 )\n",
    "\n",
    "tc_obs = []\n",
    "tc = []\n",
    "\n",
    "for vp in vplus:\n",
    "    tc_obs.append(re.tunnelcurrent_obsolete(vp,vminus,VT))\n",
    "    tc.append(re.tunnelcurrent(vp,vminus,VT))\n",
    "\n",
    "tc_obs = np.array(tc_obs)\n",
    "tc = np.array(tc)\n",
    "plt.plot(vplus,tc_obs, label='obsolete')\n",
    "plt.plot(vplus,900*tc, label='New')\n",
    "plt.legend();"
   ]
  },
  {
   "cell_type": "code",
   "execution_count": 103,
   "metadata": {},
   "outputs": [
    {
     "name": "stdout",
     "output_type": "stream",
     "text": [
      "Loading Carrier Densities\n",
      "Computing equilibrium voltages\n",
      "100 % Finished\n",
      "Computing tunnelcurrents\n",
      "0.0\\% finished\n"
     ]
    },
    {
     "name": "stderr",
     "output_type": "stream",
     "text": [
      "C:\\python\\lib\\site-packages\\scipy\\integrate\\quadpack.py:364: IntegrationWarning: The maximum number of subdivisions (50) has been achieved.\n",
      "  If increasing the limit yields no improvement it is advised to analyze \n",
      "  the integrand in order to determine the difficulties.  If the position of a \n",
      "  local difficulty can be determined (singularity, discontinuity) one will \n",
      "  probably gain from splitting up the interval and calling the integrator \n",
      "  on the subranges.  Perhaps a special-purpose integrator should be used.\n",
      "  msgs[1] = \"The maximum number of cycles allowed has been achieved., e.e.\\n  of subintervals (a+(k-1)c, a+kc) where c = (2*int(abs(omega)+1))\\n  *pi/abs(omega), for k = 1, 2, ..., lst.  One can allow more cycles by increasing the value of limlst.  Look at info['ierlst'] with full_output=1.\"\n"
     ]
    },
    {
     "name": "stdout",
     "output_type": "stream",
     "text": [
      "1.0\\% finished\n",
      "2.0\\% finished\n",
      "3.0\\% finished\n",
      "4.0\\% finished\n",
      "5.0\\% finished\n",
      "6.0\\% finished\n",
      "7.0\\% finished\n",
      "8.0\\% finished\n",
      "9.0\\% finished\n",
      "1e+01\\% finished\n",
      "1.1e+01\\% finished\n",
      "1.2e+01\\% finished\n",
      "1.3e+01\\% finished\n",
      "1.4e+01\\% finished\n",
      "1.5e+01\\% finished\n",
      "1.6e+01\\% finished\n",
      "1.7e+01\\% finished\n",
      "1.8e+01\\% finished\n",
      "1.9e+01\\% finished\n",
      "2e+01\\% finished\n",
      "2.1e+01\\% finished\n"
     ]
    },
    {
     "name": "stderr",
     "output_type": "stream",
     "text": [
      "C:\\python\\lib\\site-packages\\scipy\\integrate\\quadpack.py:364: IntegrationWarning: The algorithm does not converge.  Roundoff error is detected\n",
      "  in the extrapolation table.  It is assumed that the requested tolerance\n",
      "  cannot be achieved, and that the returned result (if full_output = 1) is \n",
      "  the best which can be obtained.\n",
      "  msgs[1] = \"The maximum number of cycles allowed has been achieved., e.e.\\n  of subintervals (a+(k-1)c, a+kc) where c = (2*int(abs(omega)+1))\\n  *pi/abs(omega), for k = 1, 2, ..., lst.  One can allow more cycles by increasing the value of limlst.  Look at info['ierlst'] with full_output=1.\"\n"
     ]
    },
    {
     "name": "stdout",
     "output_type": "stream",
     "text": [
      "2.2e+01\\% finished\n",
      "2.3e+01\\% finished\n",
      "2.4e+01\\% finished\n",
      "2.5e+01\\% finished\n",
      "2.6e+01\\% finished\n",
      "2.7e+01\\% finished\n",
      "2.8e+01\\% finished\n",
      "2.9e+01\\% finished\n",
      "3e+01\\% finished\n",
      "3.1e+01\\% finished\n",
      "3.2e+01\\% finished\n",
      "3.3e+01\\% finished\n",
      "3.4e+01\\% finished\n",
      "3.5e+01\\% finished\n",
      "3.6e+01\\% finished\n",
      "3.7e+01\\% finished\n",
      "3.8e+01\\% finished\n",
      "3.9e+01\\% finished\n",
      "4e+01\\% finished\n",
      "4.1e+01\\% finished\n",
      "4.2e+01\\% finished\n",
      "4.3e+01\\% finished\n",
      "4.4e+01\\% finished\n",
      "4.5e+01\\% finished\n",
      "4.6e+01\\% finished\n",
      "4.7e+01\\% finished\n",
      "4.8e+01\\% finished\n",
      "4.9e+01\\% finished\n",
      "5e+01\\% finished\n",
      "5.1e+01\\% finished\n",
      "5.2e+01\\% finished\n",
      "5.3e+01\\% finished\n",
      "5.4e+01\\% finished\n",
      "5.5e+01\\% finished\n",
      "5.6e+01\\% finished\n",
      "5.7e+01\\% finished\n",
      "5.8e+01\\% finished\n",
      "5.9e+01\\% finished\n",
      "6e+01\\% finished\n",
      "6.1e+01\\% finished\n",
      "6.2e+01\\% finished\n",
      "6.3e+01\\% finished\n",
      "6.4e+01\\% finished\n",
      "6.5e+01\\% finished\n",
      "6.6e+01\\% finished\n",
      "6.7e+01\\% finished\n",
      "6.8e+01\\% finished\n",
      "6.9e+01\\% finished\n",
      "7e+01\\% finished\n",
      "7.1e+01\\% finished\n",
      "7.2e+01\\% finished\n",
      "7.3e+01\\% finished\n",
      "7.4e+01\\% finished\n",
      "7.5e+01\\% finished\n",
      "7.6e+01\\% finished\n",
      "7.7e+01\\% finished\n",
      "7.8e+01\\% finished\n",
      "7.9e+01\\% finished\n",
      "8e+01\\% finished\n",
      "8.1e+01\\% finished\n",
      "8.2e+01\\% finished\n",
      "8.3e+01\\% finished\n",
      "8.4e+01\\% finished\n",
      "8.5e+01\\% finished\n",
      "8.6e+01\\% finished\n",
      "8.7e+01\\% finished\n",
      "8.8e+01\\% finished\n",
      "8.9e+01\\% finished\n",
      "9e+01\\% finished\n",
      "9.1e+01\\% finished\n",
      "9.2e+01\\% finished\n",
      "9.3e+01\\% finished\n",
      "9.4e+01\\% finished\n",
      "9.5e+01\\% finished\n",
      "9.6e+01\\% finished\n",
      "9.7e+01\\% finished\n",
      "9.8e+01\\% finished\n",
      "9.9e+01\\% finished\n"
     ]
    }
   ],
   "source": [
    "from Materials import Graphene\n",
    "from TunnelingExperiment import TunnelingExperiments\n",
    "\n",
    "d1 \t= 1\n",
    "d2 \t= 305\n",
    "e1 \t= 1\n",
    "e2 \t= 3.9\n",
    "T \t= 0\n",
    "Wtip= 5\n",
    "\n",
    "\n",
    "\n",
    "stm = TunnelingExperiments.BLGinSTM(d1,d2,e1,e2,T,Wtip)\n",
    "\n",
    "VTrange = [-0.2,0.2]\n",
    "num_vts_100 = 1\n",
    "\n",
    "VBrange = [-30,30]\n",
    "num_vbs_100 = 1\n",
    "\n",
    "I = stm.generate_tunnelcurrent(VTrange,num_vts_100,VBrange,num_vbs_100)"
   ]
  },
  {
   "cell_type": "code",
   "execution_count": 105,
   "metadata": {},
   "outputs": [],
   "source": [
    "import matplotlib.pyplot as plt\n",
    "\n",
    "%matplotlib inline"
   ]
  },
  {
   "cell_type": "code",
   "execution_count": 109,
   "metadata": {},
   "outputs": [
    {
     "data": {
      "image/png": "[encoded data removed]",
      "text/plain": [
       "<Figure size 432x288 with 1 Axes>"
      ]
     },
     "metadata": {},
     "output_type": "display_data"
    }
   ],
   "source": [
    "plt.imshow(np.gradient(I,axis=0));"
   ]
  }
 ],
 "metadata": {
  "kernelspec": {
   "display_name": "Python 3",
   "language": "python",
   "name": "python3"
  },
  "language_info": {
   "codemirror_mode": {
    "name": "ipython",
    "version": 3
   },
   "file_extension": ".py",
   "mimetype": "text/x-python",
   "name": "python",
   "nbconvert_exporter": "python",
   "pygments_lexer": "ipython3",
   "version": "3.6.5rc1"
  }
 },
 "nbformat": 4,
 "nbformat_minor": 2
}
