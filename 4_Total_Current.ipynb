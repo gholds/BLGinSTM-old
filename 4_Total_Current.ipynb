{
 "cells": [
  {
   "cell_type": "markdown",
   "metadata": {},
   "source": [
    "# Total Current"
   ]
  },
  {
   "cell_type": "code",
   "execution_count": 1,
   "metadata": {},
   "outputs": [],
   "source": [
    "from importlib import reload\n",
    "import Run_Experiment as re"
   ]
  },
  {
   "cell_type": "code",
   "execution_count": 75,
   "metadata": {},
   "outputs": [
    {
     "name": "stdout",
     "output_type": "stream",
     "text": [
      "3.732995490806711e+16\n",
      "[-8.01090000e-21 -7.71554997e-21]\n",
      "3.73E+13\n"
     ]
    }
   ],
   "source": [
    "reload(re)\n",
    "\n",
    "re.setup_experiment(1,305,1,3.9,0,5)\n",
    "\n",
    "VT = 0.1\n",
    "vplus, vminus= 0,0.05\n",
    "print(re.tunnelcurrent(vplus,vminus,VT))\n",
    "print(\"{:.2E}\".format(re.tunnelcurrent2(vplus,vminus,VT)))"
   ]
  },
  {
   "cell_type": "code",
   "execution_count": 39,
   "metadata": {},
   "outputs": [],
   "source": [
    "from BLG.BandStructure import DOS"
   ]
  },
  {
   "cell_type": "code",
   "execution_count": 41,
   "metadata": {
    "slideshow": {
     "slide_type": "subslide"
    }
   },
   "outputs": [],
   "source": [
    "DOS??"
   ]
  }
 ],
 "metadata": {
  "kernelspec": {
   "display_name": "Python 3",
   "language": "python",
   "name": "python3"
  },
  "language_info": {
   "codemirror_mode": {
    "name": "ipython",
    "version": 3
   },
   "file_extension": ".py",
   "mimetype": "text/x-python",
   "name": "python",
   "nbconvert_exporter": "python",
   "pygments_lexer": "ipython3",
   "version": "3.6.5rc1"
  }
 },
 "nbformat": 4,
 "nbformat_minor": 2
}
