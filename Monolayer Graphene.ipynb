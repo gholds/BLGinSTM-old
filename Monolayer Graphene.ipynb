{
 "cells": [
  {
   "cell_type": "code",
   "execution_count": 10,
   "metadata": {},
   "outputs": [],
   "source": [
    "import numpy as np\n",
    "import matplotlib.pyplot as plt"
   ]
  },
  {
   "cell_type": "code",
   "execution_count": 2,
   "metadata": {},
   "outputs": [],
   "source": [
    "pi=np.pi\n",
    "eVtoJ=1.60218*(10**(-19)) # eV to Joules\n",
    "JtoeV=1/eVtoJ\n",
    "InvAngs=(10**(10)) # Converts rad/m to inverse angstroms\n",
    "q=eVtoJ # fundamental charge\n",
    "m = 9.1094 * 10**-31 # kg, mass of the electron\n",
    "hbar=1.0545718*(10**(-34)) # Joule-s\n",
    "kB = 1.38064852*10**-23 # J/K \n",
    "e0=8.85*(10**(-12)) # Permittivity of free space"
   ]
  },
  {
   "cell_type": "code",
   "execution_count": 3,
   "metadata": {},
   "outputs": [],
   "source": [
    "a=1.42 * (10**(-10)) # m, Interatom spacing\n",
    "Ac = 3*np.sqrt(3)*(a**2) / 2 # Area of unit cell of graphene\n",
    "g0=2.8*eVtoJ # J, Interatom hopping potential\n",
    "\n",
    "vF=3*a*g0/(2*hbar) # m/s, Fermi velocity"
   ]
  },
  {
   "cell_type": "code",
   "execution_count": 5,
   "metadata": {},
   "outputs": [],
   "source": [
    "def Dispersion(k):\n",
    "    return hbar*vF*abs(k)"
   ]
  },
  {
   "cell_type": "code",
   "execution_count": 27,
   "metadata": {},
   "outputs": [],
   "source": [
    "def eFermi(n):\n",
    "    return np.sign(n)*hbar*vF*np.sqrt(abs(n)/pi)"
   ]
  },
  {
   "cell_type": "code",
   "execution_count": 38,
   "metadata": {},
   "outputs": [
    {
     "data": {
      "image/png": "[encoded data removed]",
      "text/plain": [
       "<Figure size 432x288 with 1 Axes>"
      ]
     },
     "metadata": {},
     "output_type": "display_data"
    }
   ],
   "source": [
    "# Choose a large band bending parameter u\n",
    "# so we can see the sombrero shape easily\n",
    "u = 0.6 * eVtoJ\n",
    "\n",
    "# Choose a density n\n",
    "n = -3*10**20\n",
    "\n",
    "# Choose the range of k values near Fermi wavevectors to look at band\n",
    "k = np.linspace(-0.25*10**10,0.25*10**10,num=1000)\n",
    "\n",
    "eF = eFermi(n)*np.ones(np.shape(k))\n",
    "\n",
    "\n",
    "# Get the bands\n",
    "Con = Dispersion(k)\n",
    "Val = -Con\n",
    "\n",
    "Con = Con\n",
    "Val = Val\n",
    "\n",
    "fig, ax1 = plt.subplots()\n",
    "ax1.set_autoscaley_on(False)\n",
    "\n",
    "ax1.plot(0,1.5)\n",
    "ax1.plot(0,-1.5)\n",
    "ax1.plot(k*10**-10,Con*JtoeV,'k-',linewidth=3)\n",
    "ax1.plot(k*10**-10,Val*JtoeV,'k-',linewidth=3)\n",
    "\n",
    "\n",
    "# Fill between band and Fermi level\n",
    "x  = k*10**-10\n",
    "y0 = np.zeros(np.shape(x))\n",
    "y1 = Con*JtoeV\n",
    "y2 = Val*JtoeV\n",
    "ymin = np.min(y2)*np.ones(np.shape(x))\n",
    "\n",
    "# if np.min(Con)<=0:\n",
    "#     ax1.fill_between(x,y0,y1,where = y1<=0,facecolor='royalblue')\n",
    "#     ax1.fill_between(x,ymin,y2,where = y2>=ymin,facecolor='royalblue')\n",
    "# else:\n",
    "#     ax1.fill_between(x,ymin,y2,where = y2<y0,facecolor='royalblue')\n",
    "#     ax1.fill_between(x,ymin,y0,where = y2>y0,facecolor='royalblue')\n",
    "\n",
    "ax1.axis([-.25,.25,-1.5,1.5])\n",
    "\n",
    "\n",
    "ax1.set_xticks([])\n",
    "ax1.set_yticks([])\n",
    "ax1.spines['left'].set_position('zero')\n",
    "ax1.spines['right'].set_color('none')\n",
    "ax1.spines['bottom'].set_position('zero')\n",
    "ax1.spines['top'].set_color('none')\n",
    "ax1.spines['left'].set_smart_bounds(True)\n",
    "ax1.spines['bottom'].set_smart_bounds(True)\n",
    "\n",
    "fig.tight_layout()\n",
    "plt.savefig('images/BandStructure/Monolayer/Basic.png',bbox_inches='tight',dpi=150)\n",
    "plt.show()"
   ]
  },
  {
   "cell_type": "code",
   "execution_count": 34,
   "metadata": {},
   "outputs": [],
   "source": [
    "ax1.plot?"
   ]
  }
 ],
 "metadata": {
  "kernelspec": {
   "display_name": "Python 3",
   "language": "python",
   "name": "python3"
  },
  "language_info": {
   "codemirror_mode": {
    "name": "ipython",
    "version": 3
   },
   "file_extension": ".py",
   "mimetype": "text/x-python",
   "name": "python",
   "nbconvert_exporter": "python",
   "pygments_lexer": "ipython3",
   "version": "3.6.5rc1"
  }
 },
 "nbformat": 4,
 "nbformat_minor": 2
}
