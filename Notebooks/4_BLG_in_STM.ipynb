{
 "cells": [
  {
   "cell_type": "markdown",
   "metadata": {},
   "source": [
    "Only run the following cell once"
   ]
  },
  {
   "cell_type": "code",
   "execution_count": 1,
   "metadata": {},
   "outputs": [],
   "source": [
    "# Only run this cell once\n",
    "import os\n",
    "moduledir = os.path.dirname( os.getcwd() )\n",
    "\n",
    "os.chdir(moduledir) # Move up one directory so we can import modules"
   ]
  },
  {
   "cell_type": "markdown",
   "metadata": {},
   "source": [
    "# BLG in STM"
   ]
  },
  {
   "cell_type": "markdown",
   "metadata": {},
   "source": [
    "To generate a $dI/dV$ spectrum over all gate voltages, we first import the `TunnelingExperiments` module. A tunneling experiment performed on BLG is provided by the object `TunnelingExperiments.BLGinSTM`. The parameters it takes are as follows\n",
    "\n",
    "* The distance between the top gate (tip) and sample `d1` in units nm\n",
    "* The distance between the bottom gate and sample `d2` in units nm\n",
    "* The *relative* permittivity between the tip and sample `e1`\n",
    "* The *relative* permittivity between the bottom gate and sample `e2`\n",
    "* Temperature `T` in Kelvin\n",
    "* The work function of the tip `Wtip` in units eV\n",
    "\n",
    "A common example is to have a layer BLG on a ~20 nm thick piece of hBN on a 285 nm thick SiO$_2$ oxide. This sets `d_2=20+285=305` nm. The relative permittivity of both hBN and SiO$_2$ is roughly 4, so we set `e2=4`. The tip height varies substantially, but in this example, we'll set `d_1=1` nm. Since the tip sits in vacuum, `e1=1`. If the tip is made of Pt-Ir, then `Wtip=5` eV approximately."
   ]
  },
  {
   "cell_type": "code",
   "execution_count": 2,
   "metadata": {},
   "outputs": [],
   "source": [
    "import numpy as np\n",
    "\n",
    "from TunnelingExperiment import TunnelingExperiments"
   ]
  },
  {
   "cell_type": "code",
   "execution_count": null,
   "metadata": {},
   "outputs": [
    {
     "name": "stdout",
     "output_type": "stream",
     "text": [
      "Computing tunnel currents\n",
      "22.0 % finished668 % finished\r"
     ]
    },
    {
     "name": "stderr",
     "output_type": "stream",
     "text": [
      "C:\\python\\lib\\site-packages\\scipy\\integrate\\quadpack.py:385: IntegrationWarning: The maximum number of subdivisions (50) has been achieved.\n",
      "  If increasing the limit yields no improvement it is advised to analyze \n",
      "  the integrand in order to determine the difficulties.  If the position of a \n",
      "  local difficulty can be determined (singularity, discontinuity) one will \n",
      "  probably gain from splitting up the interval and calling the integrator \n",
      "  on the subranges.  Perhaps a special-purpose integrator should be used.\n",
      "  warnings.warn(msg, IntegrationWarning)\n"
     ]
    },
    {
     "name": "stdout",
     "output_type": "stream",
     "text": [
      "28.666666666666668 % finished\r"
     ]
    },
    {
     "name": "stderr",
     "output_type": "stream",
     "text": [
      "C:\\python\\lib\\site-packages\\scipy\\integrate\\quadpack.py:385: IntegrationWarning: Extremely bad integrand behavior occurs at some points of the\n",
      "  integration interval.\n",
      "  warnings.warn(msg, IntegrationWarning)\n"
     ]
    },
    {
     "name": "stdout",
     "output_type": "stream",
     "text": [
      "35.666666666666664 % finished\r"
     ]
    },
    {
     "name": "stderr",
     "output_type": "stream",
     "text": [
      "C:\\python\\lib\\site-packages\\scipy\\integrate\\quadpack.py:385: IntegrationWarning: The algorithm does not converge.  Roundoff error is detected\n",
      "  in the extrapolation table.  It is assumed that the requested tolerance\n",
      "  cannot be achieved, and that the returned result (if full_output = 1) is \n",
      "  the best which can be obtained.\n",
      "  warnings.warn(msg, IntegrationWarning)\n"
     ]
    },
    {
     "name": "stdout",
     "output_type": "stream",
     "text": [
      "49.333333333333336 % finished\r"
     ]
    },
    {
     "name": "stderr",
     "output_type": "stream",
     "text": [
      "C:\\Users\\holdm\\Documents\\UW-Madison\\BrarGroup\\Master\\BLGinSTM\\Materials\\Graphene.py:161: RuntimeWarning: divide by zero encountered in true_divide\n",
      "  propdkp2 = 2 + (self.g1**2 + u**2)/np.sqrt(disc)\n",
      "C:\\Users\\holdm\\Documents\\UW-Madison\\BrarGroup\\Master\\BLGinSTM\\Materials\\Graphene.py:162: RuntimeWarning: divide by zero encountered in true_divide\n",
      "  propdkm2 = 2 - (self.g1**2 + u**2)/np.sqrt(disc)\n"
     ]
    },
    {
     "name": "stdout",
     "output_type": "stream",
     "text": [
      "99.66666666666667 % finishedd\r"
     ]
    },
    {
     "name": "stderr",
     "output_type": "stream",
     "text": [
      "C:\\Users\\holdm\\Documents\\UW-Madison\\BrarGroup\\Master\\BLGinSTM\\TunnelingExperiment\\TunnelingExperiments.py:282: RuntimeWarning: divide by zero encountered in true_divide\n",
      "  dIdV_plot = plt.imshow(dIdV/IV,cmap=cm.RdYlGn,origin='lower',\n",
      "C:\\Users\\holdm\\Documents\\UW-Madison\\BrarGroup\\Master\\BLGinSTM\\TunnelingExperiment\\TunnelingExperiments.py:282: RuntimeWarning: invalid value encountered in true_divide\n",
      "  dIdV_plot = plt.imshow(dIdV/IV,cmap=cm.RdYlGn,origin='lower',\n"
     ]
    },
    {
     "name": "stdout",
     "output_type": "stream",
     "text": [
      "Computing tunnel currents\n",
      "Computing tunnel currentshedd\n",
      "Computing tunnel currentshedd\n",
      "0.0 % finished\r"
     ]
    }
   ],
   "source": [
    "d1_array = [0.1,0.2,0.5,1,2,5,10] # nm between tip and sample\n",
    "d2 = 305 # nm between backgate and sample\n",
    "e1 = 1 # relative permittivity between tip and sample\n",
    "e2 = 4 # relative permittivity between backgate and sample\n",
    "T = 0 # Kelvin\n",
    "Wtip = 5 # eV for work function of the tip\n",
    "\n",
    "\n",
    "for d1 in d1_array:\n",
    "    experiment = TunnelingExperiments.BLGinSTM(d1,d2,e1,e2,T,Wtip)\n",
    "\n",
    "    VTrange = [-0.2,0.2]\n",
    "    num_vts_100 = 3\n",
    "    VT = np.linspace(VTrange[0],VTrange[-1],num=num_vts_100*100)\n",
    "\n",
    "    VBrange = [-45,45]\n",
    "    num_vbs_100 = 3\n",
    "    VB = np.linspace(VBrange[0],VBrange[-1],num=num_vbs_100*100)\n",
    "\n",
    "    experiment.generate_tunnelcurrent(VTrange,num_vts_100,VBrange,num_vbs_100,method='DasSarma')\n",
    "    experiment.plot_dIdV(show=False,save=True)"
   ]
  },
  {
   "cell_type": "markdown",
   "metadata": {},
   "source": [
    "# Total Current"
   ]
  },
  {
   "cell_type": "markdown",
   "metadata": {},
   "source": [
    "The total current, as given in Chen 2008, is\n",
    "\n",
    "$$I =\\frac{4\\pi eA_c}{\\hbar}|M(0)|^2\\rho_T \\int_{-\\infty}^{\\infty}[f(\\epsilon-eV_T)-f(\\epsilon)]\\rho_{BLG}(\\epsilon_F+\\epsilon)\\exp{(\\kappa_0(\\epsilon - \\frac{1}{2}eV_T) s/2\\bar\\phi)}\\quad d\\epsilon $$"
   ]
  },
  {
   "cell_type": "markdown",
   "metadata": {},
   "source": [
    "where\n",
    "\n",
    "* $\\bar\\phi = W_T - \\frac{e}{2}V_T$ is the average work function of the tip and graphene\n",
    "* $\\kappa_0=\\frac{\\sqrt{2m\\bar\\phi}}{\\hbar}$ is a decay constant\n",
    "* $s$ is the distance between the tip and sample\n",
    "* $f(\\epsilon)=[1+\\exp{\\epsilon/k_BT}]^{-1}$ is the Fermi-Dirac distribution"
   ]
  }
 ],
 "metadata": {
  "kernelspec": {
   "display_name": "Python 3",
   "language": "python",
   "name": "python3"
  },
  "language_info": {
   "codemirror_mode": {
    "name": "ipython",
    "version": 3
   },
   "file_extension": ".py",
   "mimetype": "text/x-python",
   "name": "python",
   "nbconvert_exporter": "python",
   "pygments_lexer": "ipython3",
   "version": "3.6.5rc1"
  }
 },
 "nbformat": 4,
 "nbformat_minor": 2
}
