{
 "cells": [
  {
   "cell_type": "markdown",
   "metadata": {},
   "source": [
    "# Total Current"
   ]
  },
  {
   "cell_type": "markdown",
   "metadata": {},
   "source": [
    "The total current, as given in Chen 2008, is\n",
    "\n",
    "$$I =\\frac{4\\pi eA_c}{\\hbar}|M(0)|^2\\rho_T \\int_{-\\infty}^{\\infty}[f(\\epsilon-eV_T)-f(\\epsilon)]\\rho_{BLG}(\\epsilon_F+\\epsilon)\\exp{(\\kappa_0(\\epsilon - \\frac{1}{2}eV_T) s/2\\bar\\phi)}\\quad d\\epsilon $$"
   ]
  },
  {
   "cell_type": "markdown",
   "metadata": {},
   "source": [
    "where\n",
    "\n",
    "* $\\bar\\phi = (W_T + W_S)/2$ is the average work function of the tip and graphene (Change to (W_ptir + W_blg) / 2)\n",
    "* $\\kappa_0=\\frac{\\sqrt{2m\\bar\\phi}}{\\hbar}$ is a decay constant\n",
    "* $s$ is the distance between the tip and sample\n",
    "* $f(\\epsilon)=[1+\\exp{\\epsilon/k_BT}]^{-1}$ is the Fermi-Dirac distribution"
   ]
  },
  {
   "cell_type": "code",
   "execution_count": null,
   "metadata": {},
   "outputs": [],
   "source": []
  }
 ],
 "metadata": {
  "kernelspec": {
   "display_name": "Python 3",
   "language": "python",
   "name": "python3"
  },
  "language_info": {
   "codemirror_mode": {
    "name": "ipython",
    "version": 3
   },
   "file_extension": ".py",
   "mimetype": "text/x-python",
   "name": "python",
   "nbconvert_exporter": "python",
   "pygments_lexer": "ipython3",
   "version": "3.6.5rc1"
  }
 },
 "nbformat": 4,
 "nbformat_minor": 2
}
