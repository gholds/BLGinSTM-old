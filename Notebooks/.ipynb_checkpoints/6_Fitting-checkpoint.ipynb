{
 "cells": [
  {
   "cell_type": "code",
   "execution_count": 1,
   "metadata": {},
   "outputs": [],
   "source": [
    "# This cell allows then notebook to discover the package TunnelingExperiment\n",
    "# Only run this cell once. If run a second time, hit \"Kernel->Reset\" to restart\n",
    "# the notebook, then run once.\n",
    "\n",
    "import os\n",
    "moduledir = os.path.dirname( os.getcwd() )\n",
    "\n",
    "os.chdir(moduledir) # Move up one directory so we can import modules\n",
    "\n",
    "#Import libraries\n",
    "%matplotlib inline\n",
    "from ipywidgets import interactive,fixed\n",
    "import matplotlib.pyplot as plt\n",
    "import matplotlib.cm as cm\n",
    "import numpy as np\n"
   ]
  },
  {
   "cell_type": "markdown",
   "metadata": {},
   "source": [
    "# Fitting"
   ]
  },
  {
   "cell_type": "markdown",
   "metadata": {},
   "source": [
    "Example of pulling data to make an interactive plot of an image"
   ]
  },
  {
   "cell_type": "code",
   "execution_count": 2,
   "metadata": {},
   "outputs": [],
   "source": [
    "domain = np.linspace(0,5,num=300)\n",
    "\n",
    "kx = np.linspace(0.1,2,num=20)\n",
    "ky = np.linspace(0.1,2,num=20)\n",
    "\n",
    "image = np.empty((len(kx),len(ky),len(domain),len(domain)))\n",
    "for i in range(len(kx)):\n",
    "    for j in range(len(ky)):\n",
    "        image[i][j] = np.sin(kx[i]*domain)*np.sin(ky[j]*domain[:,np.newaxis])"
   ]
  },
  {
   "cell_type": "code",
   "execution_count": 5,
   "metadata": {},
   "outputs": [],
   "source": [
    "def image_plot(im,kx,kxrange,ky,kyrange,alpha):\n",
    "    fig = plt.figure(2,frameon=False)\n",
    "    xindex = (np.abs(kx - kxrange)).argmin()\n",
    "    yindex = (np.abs(ky - kyrange)).argmin()\n",
    "    \n",
    "    data = plt.imshow(image[10][10],cmap=cm.gray,origin='lower',\n",
    "                     aspect='auto',alpha=1-alpha,extent=(domain[0],domain[-1],domain[0],domain[-1]))\n",
    "    \n",
    "    fit = plt.imshow(image[xindex][yindex],cmap=cm.RdYlGn,origin='lower',\n",
    "                aspect='auto',alpha=0.4,extent=(domain[0],domain[-1],domain[0],domain[-1]))\n",
    "    plt.show()"
   ]
  },
  {
   "cell_type": "code",
   "execution_count": 6,
   "metadata": {},
   "outputs": [
    {
     "data": {
      "application/vnd.jupyter.widget-view+json": {
       "model_id": "77b572633d814402a6755278cee69f92",
       "version_major": 2,
       "version_minor": 0
      },
      "text/html": [
       "<p>Failed to display Jupyter Widget of type <code>interactive</code>.</p>\n",
       "<p>\n",
       "  If you're reading this message in the Jupyter Notebook or JupyterLab Notebook, it may mean\n",
       "  that the widgets JavaScript is still loading. If this message persists, it\n",
       "  likely means that the widgets JavaScript library is either not installed or\n",
       "  not enabled. See the <a href=\"https://ipywidgets.readthedocs.io/en/stable/user_install.html\">Jupyter\n",
       "  Widgets Documentation</a> for setup instructions.\n",
       "</p>\n",
       "<p>\n",
       "  If you're reading this message in another frontend (for example, a static\n",
       "  rendering on GitHub or <a href=\"https://nbviewer.jupyter.org/\">NBViewer</a>),\n",
       "  it may mean that your frontend doesn't currently support widgets.\n",
       "</p>\n"
      ],
      "text/plain": [
       "interactive(children=(FloatSlider(value=1.05, description='kx', max=2.0, min=0.1), FloatSlider(value=1.05, description='ky', max=2.0, min=0.1), Output(layout=Layout(height='300px'))), _dom_classes=('widget-interact',))"
      ]
     },
     "metadata": {},
     "output_type": "display_data"
    }
   ],
   "source": [
    "interactive_plot = interactive(image_plot, im=fixed(image),\n",
    "                               kx=(kx[0], kx[-1]),kxrange=fixed(kx),ky=(ky[0],ky[-1]),kyrange=fixed(ky),\n",
    "                              alpha=(0,1))\n",
    "output = interactive_plot.children[-1]\n",
    "output.layout.height = '300px'\n",
    "interactive_plot"
   ]
  },
  {
   "cell_type": "code",
   "execution_count": 5,
   "metadata": {},
   "outputs": [],
   "source": [
    "plt.figure?"
   ]
  }
 ],
 "metadata": {
  "kernelspec": {
   "display_name": "Python 3",
   "language": "python",
   "name": "python3"
  },
  "language_info": {
   "codemirror_mode": {
    "name": "ipython",
    "version": 3
   },
   "file_extension": ".py",
   "mimetype": "text/x-python",
   "name": "python",
   "nbconvert_exporter": "python",
   "pygments_lexer": "ipython3",
   "version": "3.6.5rc1"
  }
 },
 "nbformat": 4,
 "nbformat_minor": 2
}
