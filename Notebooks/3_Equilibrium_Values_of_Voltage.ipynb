{
 "cells": [
  {
   "cell_type": "markdown",
   "metadata": {},
   "source": [
    "Only run the following cell once"
   ]
  },
  {
   "cell_type": "code",
   "execution_count": 1,
   "metadata": {},
   "outputs": [],
   "source": [
    "# Only run this cell once\n",
    "import os\n",
    "moduledir = os.path.dirname( os.getcwd() )\n",
    "\n",
    "os.chdir(moduledir) # Move up one directory so we can import modules"
   ]
  },
  {
   "cell_type": "markdown",
   "metadata": {},
   "source": [
    "# Equilibrium Values of Voltage"
   ]
  },
  {
   "cell_type": "markdown",
   "metadata": {},
   "source": [
    "The difficulty with BLG is that its band structure is dependent upon the potential difference between the layers. When measuring a sample of BLG with an STM tip, one typically sweeps over many different values of tip voltage. Thus the act of measuring the band structure changes the band structure itself. In order to account for this, I have developed adapted an electrostatic model from previous works which will determine the equilibrium values of the voltages on the layers of BLG. We can then compute the tunneling current between the BLG and tip"
   ]
  },
  {
   "cell_type": "markdown",
   "metadata": {},
   "source": [
    "## Defining the Geometry"
   ]
  },
  {
   "cell_type": "markdown",
   "metadata": {},
   "source": [
    "Below is a diagram defining the variables of the experimental setup."
   ]
  },
  {
   "cell_type": "markdown",
   "metadata": {},
   "source": [
    "<img src=\"../images/CircuitModel.png\" />"
   ]
  },
  {
   "cell_type": "markdown",
   "metadata": {},
   "source": [
    "| Quantity                       | Mathematical Variable  | Code Variable  | Notes                                |\n",
    "|--------------------------------|:----------------------:|----------------|--------------------------------------|\n",
    "| Tip bias                       | $V_T$                  | `VT`           |                                      |\n",
    "| Backgate bias                  | $V_B$                  | `VB`           |                                      |\n",
    "| BLG Fermi Level                | $\\epsilon_F$           | `eF`           | $\\epsilon_F = |e|V_+$ due to grounding|\n",
    "| BLG Layer Potentials           | $V_t, V_b$             | Not used       |                                      |\n",
    "| BLG Potential                  | $V_+$                  | `vplus`        | $V_+ = (V_1 + V_2)/2=\\epsilon_F/|e|$ |\n",
    "| BLG Interlayer Potential       | $V_-$                  | `vminus`       | $V_- = (V_1 - V_2)/2$                |\n",
    "| BLG Interlayer Potential Energy| $u$                    | `u`            | $u = -2|e|V_-$                       |\n",
    "| BLG layer charge densities     | $n_t, n_b$             | Not used       |                                      |\n",
    "| BLG Charge Density             | $n_+$                  | `nplus`        | $n_+=n_t+n_b$                        |\n",
    "| BLG Interlayer Charge Density  | $n_-$                  | `nminus`       | $n_-=n_t-n_b$                        |\n"
   ]
  },
  {
   "cell_type": "markdown",
   "metadata": {},
   "source": [
    "The voltages $V_T$ and $V_G$ bias the tip and the backgate, respectively. We then have a potential drop $V_1$ ($V_2$) from the tip (backgate) to the sample. Now notice that we have defined a potential drop $V_Q$. This is the electrostatic potential drop from the region underneath the tip to ground. Since graphene is a conductor connected to ground, one may expect that $V_Q=0$. However, since graphene has a finite density of states, it costs energy to promote electrons to states of higher momentum, and therefore the *electrochemical potential* is zero $\\Phi$, rather than the electrostatic\n",
    "\n",
    "$$ \\Phi = \\epsilon_F + (-|e|)V_+ = 0 \\implies \\boxed{V_+ = \\epsilon_F/|e|}$$ \n",
    "\n",
    "(Really, the electrochemical potential is always zero for grounded materials, but metals never shift their Fermi level from zero)\n",
    "\n",
    "From Kirchoff's Law, we see immediately that\n",
    "\n",
    "$$ V_T = V_1 + V_+ $$\n",
    "$$ V_G = V_2 + V_+ $$\n",
    "\n",
    "However, this equation ignores the work functions of the metals. In reality, the difference in work functions induces an extra potential difference between each of the electrodes. The most significant effect is between the tip and the sample, and therefore we should more properly use the equations\n",
    "\n",
    "$$V_T = V_1 + \\Delta W_{t-s} + V_+ \\\\V_G = V_2 + V_+$$\n",
    "\n",
    "where $\\Delta W_{t-s}=W_t - W_s$ is the difference in work function between the tip and the sample. For graphene, we estimate $W_s=4.6$ eV ([Zhang et al. 2008](https://www.nature.com/articles/nphys1022)). Notice that we can view this term as a modification to $V_Q$ and it will therefore shift the Fermi level providing an offset in doping."
   ]
  },
  {
   "cell_type": "markdown",
   "metadata": {},
   "source": [
    "To determine the effect of the tip and backgate on the BLG, we will need to know the capacitances. In this notebook, we will use the *capacitances per unit area*\n",
    "$$ C_1 = \\frac{\\epsilon_1\\epsilon_0}{d_1} \\qquad C_2 = \\frac{\\epsilon_2\\epsilon_0}{d_2} $$\n",
    "where the $\\epsilon_i$ are the permittivities in the regions defined above and the $d_i$ are the distances between the gates and the sample. Recall that we also have a capacitance per unit area between the layers of BLG $C_{BLG}=\\epsilon_0/d$ where $d$ is the distance between the layers."
   ]
  },
  {
   "cell_type": "markdown",
   "metadata": {},
   "source": [
    "Finally, we will define the variables $n_t$ and $n_b$ to be the carrier densities on the top and bottom layer of BLG, respectively. The total charge density is $n_+=n_t+n_b$ and the interlayer charge density is $n_-=n_t-n_b$."
   ]
  },
  {
   "cell_type": "markdown",
   "metadata": {},
   "source": [
    "## Electrostatic Equations"
   ]
  },
  {
   "cell_type": "markdown",
   "metadata": {},
   "source": [
    "The voltages chosen for the tip and gate will determine many other variables such as the BLG Fermi level $\\epsilon_F=|e|V_+$, interlayer potential energy difference $u=-2|e|V_-$, the BLG carrier density $n=n_t+n_b$, and the BLG interlayer carrier density difference $n_-=n_t-n_b$. Below, we derive the equations that relate these values."
   ]
  },
  {
   "cell_type": "markdown",
   "metadata": {},
   "source": [
    "---\n",
    "Begin by assuming that **no charge has accumulated** on the graphene ($n_+=0$). In this case, the graphene has no effect on the electric fields and so the potential at the graphene is determined entirely by $V_T$ and $V_G$. Using simple electrostatics, the displacement field $D$ is a constant\n",
    "\n",
    "$$D = \\frac{\\epsilon_1\\epsilon_2}{\\epsilon_2d_1+\\epsilon_1d_2}(V_B-V_T+\\Delta W_{t-s})$$\n",
    "\n",
    "which implies electric fields $E_1=D/\\epsilon_1$ and $E_2=D/\\epsilon_2$ in the top and bottom regions respectively. This allows us to determine both the potential at the graphene $V_+$ (and hence the new Fermi level) as well as the interlayer potential. Integrating the electric field from either electrode yields\n",
    "\n",
    "$$\\boxed{ V_+ = \\frac{\\epsilon_1d_2(V_T-\\Delta W_{t-s}) + \\epsilon_2d_1V_B}{ d_1\\epsilon_2 + d_2\\epsilon_1 }. }$$\n",
    "\n",
    "\n",
    "We can also use the electric fields to find the interlayer potential energy. Recalling that $d$ is the interlayer distance, it is \n",
    "\n",
    "$$ u=u_t - u_b = -|e|\\left[ \\left(-\\frac{d}{2}E_1 \\right) - \\left(\\frac{d}{2}E_2\\right) \\right] = \\frac{|e|d(\\epsilon_2+\\epsilon_1)}{2(\\epsilon_2d_1+\\epsilon_1d_2)}(V_B-V_T+\\Delta W_{t-s})$$\n",
    "\n",
    "or\n",
    "\n",
    "$$\\boxed{ V_- =\\frac{d(\\epsilon_2+\\epsilon_1)}{4(\\epsilon_2d_1+\\epsilon_1d_2)}(V_T-V_B-\\Delta W_{t-s}) }$$"
   ]
  },
  {
   "cell_type": "markdown",
   "metadata": {},
   "source": [
    "---\n",
    "Now assume that **charge has accumulated** ($n_+\\neq 0$) so that it partially screens the fields. In this case, it is now the charge density $n_+$ that determines the Fermi level (and hence $V_+$). The electric field above (below) the sample is then $E_1=-(V_1)/d_1$ ($E_2=V_2/d_2$). The graphene forms a parallel plate capacitor with each electrode, so using the usual formula, the total charge density on the graphene will be, to first order,\n",
    "\n",
    "$$ \\sigma = -\\left(\\frac{(V_T-V_+-\\Delta W_{t-s})\\epsilon_1}{d_1} + \\frac{(V_B-V_+)\\epsilon_2}{d_2} \\right) $$\n",
    "\n",
    "giving a net electron density\n",
    "\n",
    "$$\\boxed{ n_+ = \\sigma/(-|e|) =\\frac{1}{|e|}\\left( \\frac{(V_T-V_+-\\Delta W_{t-s})\\epsilon_1}{d_1} + \\frac{(V_B-V_+)\\epsilon_2}{d_2} \\right) }$$"
   ]
  },
  {
   "cell_type": "markdown",
   "metadata": {},
   "source": [
    "The field across $E_{\\text{ext}}$ is then the average of $E_1$ and $E_2$, and so the first order difference in potential energy between the layers is found to be\n",
    "\n",
    "$$ u_{\\text{ext}} = -|e| d E_{\\text{ext}} = |e|\\frac{d}{2} \\left( \\frac{V_B-V_+}{d_2} - \\frac{V_T-V_+-\\Delta W_{t-s}}{d_1} \\right)  $$.\n",
    "\n",
    "or \n",
    "\n",
    "$$\\boxed{ V_{-,ext} = \\frac{d}{4}(\\frac{(V_T-V_+-\\Delta W_{t-s})}{d_1} - \\frac{(V_B-V_+)}{d_2}) }$$\n",
    "We include the subscript $ext$ to highlight the fact that this is a *first order* expression, meaning the charge on each layer is assumed to be the same ($n_t=n_b$). In reality, the charges on the BLG will rearrange themselves in such as way that they screen the field slightly. However, we will approach this topic later."
   ]
  },
  {
   "cell_type": "markdown",
   "metadata": {},
   "source": [
    "We can arrive at a self-consistent solution from these equations and Kirchoff's law. We recall the expression for the Fermi level of BLG at zero temperature\n",
    "\n",
    "$$ \\epsilon_F^2 = \\frac{(\\hbar^2 v_F^2 n_+ \\pi)^2 + \\gamma_1^2u^2}{4(\\gamma_1^2+u^2)} $$\n",
    "\n",
    "$$\\boxed{ 4\\epsilon_F^2\\gamma_1^2+(4\\epsilon_F^2-\\gamma_1^2)u^2 - (\\hbar^2 v_F^2\\pi)^2n_+^2 = 0 }$$\n",
    "\n",
    "where $n_+$ and $u=u_{ext}$ are given by the formulae above as a function of $V_+$. Therefore, the left hand side is only a function of the parameter $\\epsilon_F$. To solve this equation for $\\epsilon_F$, we can numerically find the root of the left hand side."
   ]
  },
  {
   "cell_type": "markdown",
   "metadata": {},
   "source": [
    "## Self-Consistent Solution"
   ]
  },
  {
   "cell_type": "markdown",
   "metadata": {},
   "source": [
    "The goal with the above equations is to determine the equilibrium values of $V_-$ and $V_+$. The former variable is the only parameter needed to describe the band structure while $V_+$ is proportional to the Fermi level and will therefore determine the states available for tunneling. This will allow us to compute the tunneling current."
   ]
  },
  {
   "cell_type": "markdown",
   "metadata": {},
   "source": [
    "Recall that the experimenter chooses the tip bias $V_T$ and backgate bias $V_B$. Charges redistribute themselves and an equilibrium is reached. The first question to answer is whether the values of $V_T$ and $V_B$ produce a charged sample. To do so, we compute the values of $V_+$ and $V_-$ in the case of *no charge* ($n_+=0$). Recall then, that the minimum of the first band is given by\n",
    "$$V_{min}=V_-\\frac{\\gamma_1}{\\sqrt{\\gamma^2 + 4(eV_-)^2}}$$\n",
    "In order for the assumption that $n_+=0$ to be self-consistent, it must be the case that $|V_+|<|V_{min}|$. If this is true, we have our equilibrium values and may compute the current. If not, it must be the case that $n_+=0$.\n",
    "\n",
    "Since $n_+\\neq 0$, we know we must use the relevant set of equations. This amounts to solving the equation mentioned above."
   ]
  },
  {
   "cell_type": "markdown",
   "metadata": {},
   "source": [
    "## Das Sarma Method"
   ]
  },
  {
   "cell_type": "code",
   "execution_count": 2,
   "metadata": {},
   "outputs": [],
   "source": [
    "from Materials import Graphene\n",
    "\n",
    "BLG = Graphene.Bilayer()"
   ]
  },
  {
   "cell_type": "markdown",
   "metadata": {},
   "source": [
    "$$ u-u_{\\text{ext}}-\\frac{e^2 a_0}{2\\epsilon_0}\\left(n_t(u)-n_b(u)\\right)=0 $$"
   ]
  },
  {
   "cell_type": "markdown",
   "metadata": {},
   "source": [
    "$$ u-u_{\\text{ext}}-\\frac{e^2 a_0}{2\\epsilon_0}n_-(V_+,V_-)=0 $$"
   ]
  },
  {
   "cell_type": "markdown",
   "metadata": {},
   "source": [
    "$$ (V_--V_{-\\text{ext}})+\\frac{e a_0}{4\\epsilon_0}n_-(V_+,V_-)=0 $$"
   ]
  },
  {
   "cell_type": "markdown",
   "metadata": {},
   "source": [
    "Start with $(V_+^0,V_-^0)$. Find new $V_-^1$ from solution to"
   ]
  },
  {
   "cell_type": "markdown",
   "metadata": {},
   "source": [
    "$$ (V_-^1-V_{-\\text{ext}})+\\frac{e}{4C_{BLG}}n_-(V_+^0,V_-^1)=0 $$"
   ]
  },
  {
   "cell_type": "markdown",
   "metadata": {},
   "source": [
    "Amount of charge if it's there\n",
    "\n",
    "$$ n = \\sigma/(-|e|) =\\frac{1}{|e|}\\left( \\frac{V_T\\epsilon_1}{d_1} + \\frac{V_2\\epsilon_2}{d_2} \\right) $$"
   ]
  }
 ],
 "metadata": {
  "kernelspec": {
   "display_name": "Python 3",
   "language": "python",
   "name": "python3"
  },
  "language_info": {
   "codemirror_mode": {
    "name": "ipython",
    "version": 3
   },
   "file_extension": ".py",
   "mimetype": "text/x-python",
   "name": "python",
   "nbconvert_exporter": "python",
   "pygments_lexer": "ipython3",
   "version": "3.6.5rc1"
  }
 },
 "nbformat": 4,
 "nbformat_minor": 2
}
