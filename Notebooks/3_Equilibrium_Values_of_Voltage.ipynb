{
 "cells": [
  {
   "cell_type": "markdown",
   "metadata": {},
   "source": [
    "Only run the following cell once"
   ]
  },
  {
   "cell_type": "code",
   "execution_count": 1,
   "metadata": {},
   "outputs": [],
   "source": [
    "# Only run this cell once\n",
    "import os\n",
    "moduledir = os.path.dirname( os.getcwd() )\n",
    "\n",
    "os.chdir(moduledir) # Move up one directory so we can import modules"
   ]
  },
  {
   "cell_type": "markdown",
   "metadata": {},
   "source": [
    "# Equilibrium Values of Voltage"
   ]
  },
  {
   "cell_type": "markdown",
   "metadata": {},
   "source": [
    "The difficulty with BLG is that its band structure is dependent upon the potential difference between the layers. When measuring a sample of BLG with an STM tip, one typically sweeps over many different values of tip voltage. Thus the act of measuring the band structure changes the band structure itself. In order to account for this, I have developed adapted an electrostatic model from previous works which will determine the equilibrium values of the voltages on the layers of BLG. We can then compute the tunneling current between the BLG and tip"
   ]
  },
  {
   "cell_type": "markdown",
   "metadata": {},
   "source": [
    "## Defining the Geometry"
   ]
  },
  {
   "cell_type": "markdown",
   "metadata": {},
   "source": [
    "Below is a diagram defining the variables of the experimental setup."
   ]
  },
  {
   "cell_type": "markdown",
   "metadata": {},
   "source": [
    "<img src=\"../images/CircuitModel.png\" />"
   ]
  },
  {
   "cell_type": "markdown",
   "metadata": {},
   "source": [
    "* $n_{t(b)}$ is the top (bottom) gate carrier density.\n",
    "* $V_{t(b)}$ is the voltage on the top (bottom) gate.\n",
    "* $n_{1(2)}$ is the top (bottom) graphene layer carrier density.\n",
    "* $V_{1(2)}$ is the voltage of the top (bottom) graphene layer."
   ]
  },
  {
   "cell_type": "markdown",
   "metadata": {},
   "source": [
    "Capacitances per unit area\n",
    "* $C_{1(2)}= \\epsilon_{1(2)}/d_{1(2)}$ is the capacitance between the top (bottom) gate and top (bottom) gate.\n",
    "* $C_{BLG}=\\epsilon_0/d$ is the capacitance between the two graphene layers, where $d\\sim0.3$ nm."
   ]
  },
  {
   "cell_type": "markdown",
   "metadata": {},
   "source": [
    "The voltages $V_T$ and $V_G$ bias the tip and the backgate, respectively. We then have a potential drop $V_1$ ($V_2$) from the tip (backgate) to the sample. Now notice that we have defined a potential drop $V_Q$. This is the electrostatic potential drop from the region underneath the tip to ground. Since graphene is a conductor, one may expect that $V_Q=0$. However, since graphene has a finite density of states, it costs energy to promote electrons to states of higher momentum, and therefore the *electrochemical potential* is zero, rather than the electrostatic\n",
    "\n",
    "$$ \\Phi = \\epsilon_F + (-|e|)V_Q = 0 \\implies \\boxed{V_Q = \\epsilon_F/|e|}$$ \n",
    "\n",
    "From Kirchoff's Law, we see immediately that\n",
    "\n",
    "$$ V_T = V_1 + V_Q $$\n",
    "$$ V_G = V_2 + V_Q $$\n",
    "\n",
    "However, this equation ignores the work functions of the metals. In reality, the difference in work functions induces an extra potential difference between each of the electrodes. The most significant effect is between the tip and the sample, and therefore we should more properly use the equations\n",
    "\n",
    "$$V_T = V_1 + \\Delta W_{t-s} + V_Q \\\\V_G = V_2 + V_Q$$\n",
    "\n",
    "where $\\Delta W_{t-s}=W_t - W_s$ is the difference in work function between the tip and the sample. For graphene, we estimate $W_s=4.6$ eV ([Zhang et al. 2008](https://www.nature.com/articles/nphys1022)). Notice that we can view this term as a modification to $V_Q$ and it will therefore shift the Fermi level."
   ]
  },
  {
   "cell_type": "markdown",
   "metadata": {},
   "source": [
    "## Work Function Notes 8/21/2018\n",
    "Potential difference $V_1$ should end up being\n",
    "$$V_1 = (V_T+\\Phi_T)-(V_S+\\Phi_S)= V_1(old) + \\Delta\\Phi_{T-S}$$"
   ]
  },
  {
   "cell_type": "markdown",
   "metadata": {},
   "source": [
    "## Das Sarma Method"
   ]
  },
  {
   "cell_type": "code",
   "execution_count": 2,
   "metadata": {},
   "outputs": [],
   "source": [
    "from Materials import Graphene\n",
    "\n",
    "BLG = Graphene.Bilayer()"
   ]
  },
  {
   "cell_type": "markdown",
   "metadata": {},
   "source": [
    "$$ u-u_{\\text{ext}}-\\frac{e^2 a_0}{2\\epsilon_0}\\left(n_t(u)-n_b(u)\\right)=0 $$"
   ]
  },
  {
   "cell_type": "markdown",
   "metadata": {},
   "source": [
    "$$ u-u_{\\text{ext}}-\\frac{e^2 a_0}{2\\epsilon_0}n_-(V_+,V_-)=0 $$"
   ]
  },
  {
   "cell_type": "markdown",
   "metadata": {},
   "source": [
    "$$ (V_--V_{-\\text{ext}})+\\frac{e a_0}{4\\epsilon_0}n_-(V_+,V_-)=0 $$"
   ]
  },
  {
   "cell_type": "markdown",
   "metadata": {},
   "source": [
    "Start with $(V_+^0,V_-^0)$. Find new $V_-^1$ from solution to"
   ]
  },
  {
   "cell_type": "markdown",
   "metadata": {},
   "source": [
    "$$ (V_-^1-V_{-\\text{ext}})+\\frac{e}{4C_{BLG}}n_-(V_+^0,V_-^1)=0 $$"
   ]
  },
  {
   "cell_type": "markdown",
   "metadata": {},
   "source": [
    "Amount of charge if it's there\n",
    "\n",
    "$$ n = \\sigma/(-|e|) =\\frac{1}{|e|}\\left( \\frac{V_T\\epsilon_1}{d_1} + \\frac{V_2\\epsilon_2}{d_2} \\right) $$"
   ]
  },
  {
   "cell_type": "markdown",
   "metadata": {},
   "source": [
    "### Fermi Level if no charge"
   ]
  },
  {
   "cell_type": "markdown",
   "metadata": {},
   "source": [
    "The voltages on the tip and gate will determine the interlayer potential energy difference $u$ and the carrier density $n$ on the sample. Begin by assuming that no charge has accumulated on the graphene. In this case, the graphene causes no change in the electric fields and so the potential at the graphene is determined entirely by $V_T$ and $V_G$. Using simple electrostatics, the displacement field $D$ is a constant\n",
    "\n",
    "$$D = \\frac{\\epsilon_1\\epsilon_2}{\\epsilon_2d_1+\\epsilon_1d_2}(V_G-V_T)$$\n",
    "\n",
    "which implies electric fields $E_1=D/\\epsilon_1$ and $E_2=D/\\epsilon_2$. This allows us to determine both the potential at the graphene $V_Q$ (and hence the new Fermi level) as well as the interlayer potential. Integrating the electric field from either electrode yields\n",
    "\n",
    "$$V_+ = \\frac{\\epsilon_1d_2V_T + \\epsilon_2d_1V_B}{ d_1\\epsilon_2 + d_2\\epsilon_1 }.$$\n",
    "\n",
    "\n",
    "If $d\\sim 3 \\mathring A$ is the interlayer distance between the graphene monolayers, then the interlayer potential energy is \n",
    "\n",
    "$$ u=u_t - u_b = -|e|\\left[ \\left(-\\frac{d}{2}E_1 \\right) - \\left(\\frac{d}{2}E_2\\right) \\right] = \\frac{|e|d(\\epsilon_2+\\epsilon_1)}{2(\\epsilon_2d_1+\\epsilon_1d_2)}(V_G-V_T)$$\n",
    "\n",
    "or\n",
    "\n",
    "$$V_- =\\frac{d(\\epsilon_2+\\epsilon_1)}{4(\\epsilon_2d_1+\\epsilon_1d_2)}(V_T-V_B)$$"
   ]
  },
  {
   "cell_type": "markdown",
   "metadata": {},
   "source": [
    "### Fermi Level if Charge"
   ]
  },
  {
   "cell_type": "markdown",
   "metadata": {},
   "source": [
    "Now suppose some charge $n \\neq 0$ has accumulated on the graphene so that it partially screens the fields. In this case, it is now the charge density $n$ that determines the Fermi level (and hence $V_Q$). The electric field above (below) the sample is then $E_1=-(V_T-V_1)/d_1$ ($E_2=V_2/d_2$). The graphene forms a parallel plate capacitor with each electrode, so using the usual formula, the total charge density on the graphene will be, to first order,\n",
    "\n",
    "$$ \\sigma = -\\left(\\frac{(V_T-V_+)\\epsilon_1}{d_1} + \\frac{(V_B-V_+)\\epsilon_2}{d_2} \\right) $$\n",
    "\n",
    "giving a net electron density\n",
    "\n",
    "$$ n = \\sigma/(-|e|) =\\frac{1}{|e|}\\left( \\frac{(V_T-V_+)\\epsilon_1}{d_1} + \\frac{(V_B-V_+)\\epsilon_2}{d_2} \\right) $$\n",
    "\n",
    "The field across $E_{\\text{ext}}$ is then the average, and so the first order difference in potential energy between the layers is found to be\n",
    "\n",
    "$$ u_{\\text{ext}} = -|e| d E_{\\text{ext}} = |e|\\frac{d}{2} \\left( \\frac{V_B-V_+}{d_2} - \\frac{V_T-V_+}{d_1} \\right)  $$.\n",
    "\n",
    "or "
   ]
  },
  {
   "cell_type": "markdown",
   "metadata": {},
   "source": [
    "$$V_{-,ext} = \\frac{d}{4}(\\frac{(V_T-V_+)}{d_1} - \\frac{(V_B-V_+)}{d_2}) $$"
   ]
  },
  {
   "cell_type": "markdown",
   "metadata": {},
   "source": [
    "We can arrive at a self-consistent solution from these equations and Kirchoff's law. We recall the expression for the Fermi energy\n",
    "\n",
    "$$ \\epsilon_F^2 = \\frac{(\\hbar^2 v_F^2 n \\pi)^2 + \\gamma_1^2u^2}{4(\\gamma_1^2+u^2)} $$\n",
    "\n",
    "$$ 4\\epsilon_F^2\\gamma_1^2+(4\\epsilon_F^2-\\gamma_1^2)u^2 - (\\hbar^2 v_F^2\\pi)^2n^2 = 0 $$\n",
    "\n",
    "where $n$ and $u$ are given by the formulae above as functions of $V_1$ and $V_2$ as above and $V_1$ and $V_2$ are related to $\\epsilon_F$ via Kirchoff's Law as before. Therefore, the left hand side is only a function of the parameter $\\epsilon_F$. To solve this equation for $\\epsilon_F$, we will numerically find the root of the left hand side."
   ]
  },
  {
   "cell_type": "markdown",
   "metadata": {},
   "source": [
    "## Electrostatic Equations"
   ]
  },
  {
   "cell_type": "markdown",
   "metadata": {},
   "source": [
    "The carrier densities and voltages obey some simple electrostatic equations (see [Young and Levitov 2011](https://arxiv.org/pdf/1105.1801.pdf)). That is, the displacement field produced between each electrode must be equal to the sum of all other displacement fields."
   ]
  },
  {
   "cell_type": "markdown",
   "metadata": {},
   "source": [
    "1. $C_1(V_t - V_1) = \\frac{-|e|}{2}(n_t - n_1 - n_2 - n_b)=\\frac{e}{2}(n_t-n_b-n_+)$\n",
    "2. $C_{BLG}(V_2 - V_1) = \\frac{-|e|}{2}(n_t + n_1 - n_2 - n_b)=\\frac{e}{2}(n_t-n_b+n_-)$\n",
    "3. $C_2(V_2 - V_b) = \\frac{-|e|}{2}(n_t + n_1 + n_2 - n_b)=\\frac{e}{2}(n_t-n_b+n_+)$\n"
   ]
  },
  {
   "cell_type": "markdown",
   "metadata": {},
   "source": [
    "Lets define $V_\\pm = \\frac{1}{2}(V_1\\pm V_2)$ and $V_\\pm^G=\\frac{1}{2}(V_t\\pm V_b)$. Then combining these three equations leads to\n",
    "\n",
    "$$ -|e| n_+ = (C_1 + C_2)(V_+ - V_+^G) + (C_1 - C_2)(V_- - V_-^G)$$\n",
    "$$ -|e|n_- = (C_1 + C_2)(V_- - V_-^G) + (C_1 - C_2)(V_+ - V_+^G) - 4C_{BLG}V_-$$"
   ]
  },
  {
   "cell_type": "markdown",
   "metadata": {},
   "source": [
    "In order to determine the tunneling current $I$, we must know the equilibrium values of $V_+$ and $V_-$. Note that $n_+$ and $n_-$ are dependent on the band structure of bilayer graphene and therefore highly nonlinear functions of $V_+$ and $V_-$. The trick will be to solve for the values of $V_+$ and $V_-$ that simultaneously satisfy the two above equations."
   ]
  },
  {
   "cell_type": "markdown",
   "metadata": {},
   "source": [
    "## Visualization of the Solution"
   ]
  },
  {
   "cell_type": "code",
   "execution_count": 1,
   "metadata": {},
   "outputs": [],
   "source": [
    "from BLG.BLG_Constants import *\n",
    "from BLG.BandStructure import *"
   ]
  },
  {
   "cell_type": "markdown",
   "metadata": {},
   "source": [
    "Below, lets setup an experiment. We set the distances, permittivities, and calculate the capacitances from those values."
   ]
  },
  {
   "cell_type": "code",
   "execution_count": 2,
   "metadata": {},
   "outputs": [],
   "source": [
    "d1 = 1*10**-9 # Tip-sample distance\n",
    "d2 = 305 * 10**-9 # Backgate-Sample distance\n",
    "d  = 0.3*10**-9 # distance between graphene layers\n",
    "\n",
    "e0 = 8.85 * 10**-12 # permittivity of free space\n",
    "e1 = 1*e0 # Vacuum between tip and sample\n",
    "e2 = 3.9*e0 # SiO2/hBn\n",
    "\n",
    "# Capacitances\n",
    "C1 = e1 / d1\n",
    "C2 = e2 / d2\n",
    "CBLG = e0 / d\n",
    "\n",
    "T=0"
   ]
  },
  {
   "cell_type": "markdown",
   "metadata": {},
   "source": [
    "The right hand sides of our electrostatic equations are planes. We define them here."
   ]
  },
  {
   "cell_type": "code",
   "execution_count": 3,
   "metadata": {},
   "outputs": [],
   "source": [
    "def planeplus(vplus, vminus,VGplus,VGminus):\n",
    "    return (C1 + C2)*(vplus - VGplus) + (C1 - C2)*(vminus - VGminus)\n",
    "\n",
    "def planeminus(vplus,vminus,VGplus,VGminus):\n",
    "    return (C1+C2)*( vminus - VGminus ) + (C1 - C2)*( vplus - VGplus) - 4*CBLG*vminus"
   ]
  },
  {
   "cell_type": "code",
   "execution_count": 4,
   "metadata": {},
   "outputs": [],
   "source": [
    "# Choose tip and backgate voltages\n",
    "VT = 1\n",
    "VB = 30\n",
    "\n",
    "VGplus = (1 / 2) * (VT+VB)\n",
    "VGminus = (1 / 2) * (VT-VB)"
   ]
  },
  {
   "cell_type": "markdown",
   "metadata": {},
   "source": [
    "In general, the planes will each intersect the surfaces that describe the carrier densities in 3D lines. We plot them below. They look a little funky because `matplotlib` is not a 3d rendering package."
   ]
  },
  {
   "cell_type": "code",
   "execution_count": 3,
   "metadata": {},
   "outputs": [],
   "source": [
    "%matplotlib inline\n",
    "import matplotlib.pyplot as plt\n",
    "from mpl_toolkits import mplot3d\n",
    "import Data_Manipulation as dm"
   ]
  },
  {
   "cell_type": "code",
   "execution_count": 6,
   "metadata": {},
   "outputs": [],
   "source": [
    "vplus = dm.get_vplus(0)\n",
    "vminus = dm.get_vminus(0)\n",
    "\n",
    "\n",
    "nplus_array = dm.get_nplus(0)\n",
    "nminus_array = dm.get_nminus(0)\n",
    "\n",
    "VP, VM = np.meshgrid(vplus,vminus)\n",
    "\n",
    "# Get the plane\n",
    "plane_minus_array = planeminus(vplus, vminus,VGplus,VGminus)\n",
    "plane_plus_array  = planeplus(vplus,vminus,VGplus,VGminus)"
   ]
  },
  {
   "cell_type": "code",
   "execution_count": 7,
   "metadata": {},
   "outputs": [
    {
     "data": {
      "image/png": "[encoded data removed]",
      "text/plain": [
       "<Figure size 1440x576 with 2 Axes>"
      ]
     },
     "metadata": {},
     "output_type": "display_data"
    }
   ],
   "source": [
    "# Plot\n",
    "fig = plt.figure(figsize=(20,8))\n",
    "ax1 = fig.add_subplot(121,projection='3d')\n",
    "ax1.plot_surface(VP,VM, -q*nminus_array, rcount=40, ccount=40, \n",
    "                cmap='viridis',edgecolor='none')\n",
    "\n",
    "ax1.plot_surface(VP, VM, plane_minus_array, rcount=40, ccount=40,\n",
    "                cmap='bwr',edgecolor='none')\n",
    "\n",
    "\n",
    "ax1.set_ylabel('Vminus (V)')\n",
    "ax1.set_xlabel('Vplus (V)')\n",
    "ax1.set_zlabel('Charge Density Difference (C/m^2)')\n",
    "\n",
    "ax2 = fig.add_subplot(122,projection='3d')\n",
    "ax2.plot_surface(VP,VM, -q*nplus_array, rcount=40, ccount=40, \n",
    "                cmap='viridis',edgecolor='none')\n",
    "\n",
    "ax2.plot_surface(VP, VM, plane_plus_array, rcount=40, ccount=40,\n",
    "                cmap='bwr',edgecolor='none')\n",
    "\n",
    "\n",
    "ax2.set_ylabel('Vminus (V)')\n",
    "ax2.set_xlabel('Vplus (V)')\n",
    "ax2.set_zlabel('Charge Density (C/m^2)')\n",
    "\n",
    "\n",
    "# Set angles\n",
    "theta = 0\n",
    "phi = 0\n",
    "ax1.view_init(theta,phi)\n",
    "ax2.view_init(theta,phi);"
   ]
  },
  {
   "cell_type": "markdown",
   "metadata": {},
   "source": [
    "## Self-Consistent Solution"
   ]
  },
  {
   "cell_type": "markdown",
   "metadata": {},
   "source": [
    "We must find the values $V_+$ and $V_-$ that sit at the intersection of each plane with their respective charge surface. One way of viewing this is that we wish to find $V_+$ and $V_-$ such that the $f_1=f_2=0$ where"
   ]
  },
  {
   "cell_type": "markdown",
   "metadata": {},
   "source": [
    "$$ f_1(V_+,V_-) = -|e| n_+ - (C_1 + C_2)(V_+ - V_+^G) - (C_1 - C_2)(V_- - V_-^G) = 0$$\n",
    "$$ f_2(V_+,V_-) = -|e| n_- - (C_1 + C_2)(V_- - V_-^G) - (C_1 - C_2)(V_+ - V_+^G) + 4C_{BLG}V_- = 0$$"
   ]
  },
  {
   "cell_type": "markdown",
   "metadata": {},
   "source": [
    "Below, we do this using a brute force method. We compute $F^2=f_1^2+f_2^2$ at all values to $V_+$ and $V_-$ and determine where $F$ if minimized using a search over the entire array."
   ]
  },
  {
   "cell_type": "markdown",
   "metadata": {},
   "source": [
    "Relevant functions are found in the `Run_Experiment` module."
   ]
  },
  {
   "cell_type": "markdown",
   "metadata": {},
   "source": [
    "We set up an experiment with a tip (backgate) located 1 nm (305 nm) away from the sample. The relative permittivities are 1 for the tip-sample region, and 3.9 for the backgate-sample region. The temperature is set to 0 K, and a work function of 5 eV is chosen."
   ]
  },
  {
   "cell_type": "code",
   "execution_count": 13,
   "metadata": {},
   "outputs": [
    {
     "data": {
      "text/plain": [
       "<module 'Run_Experiment' from 'C:\\\\Users\\\\holdm\\\\Documents\\\\UW-Madison\\\\BrarGroup\\\\Master\\\\BLGinSTM\\\\Run_Experiment.py'>"
      ]
     },
     "execution_count": 13,
     "metadata": {},
     "output_type": "execute_result"
    }
   ],
   "source": [
    "import Run_Experiment as re\n",
    "from importlib import reload\n",
    "reload(re)"
   ]
  },
  {
   "cell_type": "code",
   "execution_count": 14,
   "metadata": {},
   "outputs": [],
   "source": [
    "re.setup_experiment(1, 305, 1, 3.9, 0, 5)"
   ]
  },
  {
   "cell_type": "markdown",
   "metadata": {},
   "source": [
    "Now we generate the tunnel currents and plot the (dI/dV)/(I/V) map."
   ]
  },
  {
   "cell_type": "code",
   "execution_count": 2,
   "metadata": {},
   "outputs": [],
   "source": [
    "import numpy as np\n",
    "import matplotlib.cm as cm"
   ]
  },
  {
   "cell_type": "code",
   "execution_count": 11,
   "metadata": {},
   "outputs": [],
   "source": [
    "VTmin , VTmax = -0.2, 0.2\n",
    "num_vts_100 = 2.5 # 250 points\n",
    "\n",
    "VT = np.linspace(VTmin, VTmax, num=int(num_vts_100*100))\n",
    "\n",
    "VBmin, VBmax = -45, 45\n",
    "num_vbs_100 = 2.5 # 250 points\n",
    "\n",
    "VB = np.linspace(VBmin, VBmax, num=int(num_vbs_100*100))"
   ]
  },
  {
   "cell_type": "code",
   "execution_count": 35,
   "metadata": {},
   "outputs": [
    {
     "name": "stdout",
     "output_type": "stream",
     "text": [
      "Loading Carrier Densities\n",
      "Computing equilibrium voltages\n",
      "0.0\\% finished\n",
      "2.0\\% finished\n",
      "4.0\\% finished\n",
      "6.0\\% finished\n",
      "8.0\\% finished\n",
      "1e+01\\% finished\n",
      "1.2e+01\\% finished\n",
      "1.4e+01\\% finished\n",
      "1.6e+01\\% finished\n",
      "1.8e+01\\% finished\n",
      "2e+01\\% finished\n",
      "2.2e+01\\% finished\n",
      "2.4e+01\\% finished\n",
      "2.6e+01\\% finished\n",
      "2.8e+01\\% finished\n",
      "3e+01\\% finished\n",
      "3.2e+01\\% finished\n",
      "3.4e+01\\% finished\n",
      "3.6e+01\\% finished\n",
      "3.8e+01\\% finished\n",
      "4e+01\\% finished\n",
      "4.2e+01\\% finished\n",
      "4.4e+01\\% finished\n",
      "4.6e+01\\% finished\n",
      "4.8e+01\\% finished\n",
      "5e+01\\% finished\n",
      "5.2e+01\\% finished\n",
      "5.4e+01\\% finished\n",
      "5.6e+01\\% finished\n",
      "5.8e+01\\% finished\n",
      "6e+01\\% finished\n",
      "6.2e+01\\% finished\n",
      "6.4e+01\\% finished\n",
      "6.6e+01\\% finished\n",
      "6.8e+01\\% finished\n",
      "7e+01\\% finished\n",
      "7.2e+01\\% finished\n",
      "7.4e+01\\% finished\n",
      "7.6e+01\\% finished\n",
      "7.8e+01\\% finished\n",
      "8e+01\\% finished\n",
      "8.2e+01\\% finished\n",
      "8.4e+01\\% finished\n",
      "8.6e+01\\% finished\n",
      "8.8e+01\\% finished\n",
      "9e+01\\% finished\n",
      "9.2e+01\\% finished\n",
      "9.4e+01\\% finished\n",
      "9.6e+01\\% finished\n",
      "9.8e+01\\% finished\n",
      "Computing tunnelcurrents\n",
      "0.0\\% finished\n",
      "0.4\\% finished\n",
      "0.8\\% finished\n",
      "1.2\\% finished\n",
      "1.6\\% finished\n",
      "2.0\\% finished\n",
      "2.4\\% finished\n",
      "2.8\\% finished\n",
      "3.2\\% finished\n",
      "3.6\\% finished\n",
      "4.0\\% finished\n",
      "4.4\\% finished\n",
      "4.8\\% finished\n",
      "5.2\\% finished\n",
      "5.6\\% finished\n",
      "6.0\\% finished\n",
      "6.4\\% finished\n",
      "6.8\\% finished\n",
      "7.2\\% finished\n",
      "7.6\\% finished\n",
      "8.0\\% finished\n",
      "8.4\\% finished\n",
      "8.8\\% finished\n",
      "9.2\\% finished\n",
      "9.6\\% finished\n",
      "1e+01\\% finished\n",
      "1e+01\\% finished\n",
      "1.1e+01\\% finished\n",
      "1.1e+01\\% finished\n",
      "1.2e+01\\% finished\n",
      "1.2e+01\\% finished\n",
      "1.2e+01\\% finished\n",
      "1.3e+01\\% finished\n",
      "1.3e+01\\% finished\n",
      "1.4e+01\\% finished\n",
      "1.4e+01\\% finished\n",
      "1.4e+01\\% finished\n",
      "1.5e+01\\% finished\n",
      "1.5e+01\\% finished\n",
      "1.6e+01\\% finished\n",
      "1.6e+01\\% finished\n",
      "1.6e+01\\% finished\n",
      "1.7e+01\\% finished\n",
      "1.7e+01\\% finished\n",
      "1.8e+01\\% finished\n",
      "1.8e+01\\% finished\n",
      "1.8e+01\\% finished\n",
      "1.9e+01\\% finished\n",
      "1.9e+01\\% finished\n",
      "2e+01\\% finished\n",
      "2e+01\\% finished\n",
      "2e+01\\% finished\n",
      "2.1e+01\\% finished\n",
      "2.1e+01\\% finished\n",
      "2.2e+01\\% finished\n",
      "2.2e+01\\% finished\n",
      "2.2e+01\\% finished\n",
      "2.3e+01\\% finished\n",
      "2.3e+01\\% finished\n",
      "2.4e+01\\% finished\n",
      "2.4e+01\\% finished\n",
      "2.4e+01\\% finished\n",
      "2.5e+01\\% finished\n",
      "2.5e+01\\% finished\n",
      "2.6e+01\\% finished\n",
      "2.6e+01\\% finished\n",
      "2.6e+01\\% finished\n",
      "2.7e+01\\% finished\n",
      "2.7e+01\\% finished\n",
      "2.8e+01\\% finished\n",
      "2.8e+01\\% finished\n",
      "2.8e+01\\% finished\n",
      "2.9e+01\\% finished\n",
      "2.9e+01\\% finished\n",
      "3e+01\\% finished\n",
      "3e+01\\% finished\n",
      "3e+01\\% finished\n",
      "3.1e+01\\% finished\n",
      "3.1e+01\\% finished\n",
      "3.2e+01\\% finished\n",
      "3.2e+01\\% finished\n",
      "3.2e+01\\% finished\n",
      "3.3e+01\\% finished\n",
      "3.3e+01\\% finished\n",
      "3.4e+01\\% finished\n",
      "3.4e+01\\% finished\n",
      "3.4e+01\\% finished\n",
      "3.5e+01\\% finished\n",
      "3.5e+01\\% finished\n",
      "3.6e+01\\% finished\n",
      "3.6e+01\\% finished\n",
      "3.6e+01\\% finished\n",
      "3.7e+01\\% finished\n",
      "3.7e+01\\% finished\n",
      "3.8e+01\\% finished\n",
      "3.8e+01\\% finished\n",
      "3.8e+01\\% finished\n",
      "3.9e+01\\% finished\n",
      "3.9e+01\\% finished\n",
      "4e+01\\% finished\n",
      "4e+01\\% finished\n",
      "4e+01\\% finished\n",
      "4.1e+01\\% finished\n",
      "4.1e+01\\% finished\n",
      "4.2e+01\\% finished\n",
      "4.2e+01\\% finished\n",
      "4.2e+01\\% finished\n",
      "4.3e+01\\% finished\n",
      "4.3e+01\\% finished\n",
      "4.4e+01\\% finished\n",
      "4.4e+01\\% finished\n",
      "4.4e+01\\% finished\n",
      "4.5e+01\\% finished\n",
      "4.5e+01\\% finished\n",
      "4.6e+01\\% finished\n",
      "4.6e+01\\% finished\n",
      "4.6e+01\\% finished\n",
      "4.7e+01\\% finished\n",
      "4.7e+01\\% finished\n",
      "4.8e+01\\% finished\n",
      "4.8e+01\\% finished\n",
      "4.8e+01\\% finished\n",
      "4.9e+01\\% finished\n",
      "4.9e+01\\% finished\n",
      "5e+01\\% finished\n",
      "5e+01\\% finished\n",
      "5e+01\\% finished\n",
      "5.1e+01\\% finished\n",
      "5.1e+01\\% finished\n",
      "5.2e+01\\% finished\n",
      "5.2e+01\\% finished\n",
      "5.2e+01\\% finished\n",
      "5.3e+01\\% finished\n",
      "5.3e+01\\% finished\n",
      "5.4e+01\\% finished\n",
      "5.4e+01\\% finished\n",
      "5.4e+01\\% finished\n",
      "5.5e+01\\% finished\n",
      "5.5e+01\\% finished\n",
      "5.6e+01\\% finished\n",
      "5.6e+01\\% finished\n",
      "5.6e+01\\% finished\n",
      "5.7e+01\\% finished\n",
      "5.7e+01\\% finished\n",
      "5.8e+01\\% finished\n",
      "5.8e+01\\% finished\n",
      "5.8e+01\\% finished\n",
      "5.9e+01\\% finished\n",
      "5.9e+01\\% finished\n",
      "6e+01\\% finished\n",
      "6e+01\\% finished\n",
      "6e+01\\% finished\n",
      "6.1e+01\\% finished\n",
      "6.1e+01\\% finished\n",
      "6.2e+01\\% finished\n",
      "6.2e+01\\% finished\n",
      "6.2e+01\\% finished\n",
      "6.3e+01\\% finished\n",
      "6.3e+01\\% finished\n",
      "6.4e+01\\% finished\n",
      "6.4e+01\\% finished\n",
      "6.4e+01\\% finished\n",
      "6.5e+01\\% finished\n",
      "6.5e+01\\% finished\n",
      "6.6e+01\\% finished\n",
      "6.6e+01\\% finished\n",
      "6.6e+01\\% finished\n",
      "6.7e+01\\% finished\n",
      "6.7e+01\\% finished\n",
      "6.8e+01\\% finished\n",
      "6.8e+01\\% finished\n",
      "6.8e+01\\% finished\n",
      "6.9e+01\\% finished\n",
      "6.9e+01\\% finished\n",
      "7e+01\\% finished\n",
      "7e+01\\% finished\n",
      "7e+01\\% finished\n",
      "7.1e+01\\% finished\n",
      "7.1e+01\\% finished\n",
      "7.2e+01\\% finished\n",
      "7.2e+01\\% finished\n",
      "7.2e+01\\% finished\n",
      "7.3e+01\\% finished\n",
      "7.3e+01\\% finished\n",
      "7.4e+01\\% finished\n",
      "7.4e+01\\% finished\n",
      "7.4e+01\\% finished\n",
      "7.5e+01\\% finished\n",
      "7.5e+01\\% finished\n",
      "7.6e+01\\% finished\n",
      "7.6e+01\\% finished\n",
      "7.6e+01\\% finished\n",
      "7.7e+01\\% finished\n",
      "7.7e+01\\% finished\n",
      "7.8e+01\\% finished\n",
      "7.8e+01\\% finished\n",
      "7.8e+01\\% finished\n",
      "7.9e+01\\% finished\n",
      "7.9e+01\\% finished\n",
      "8e+01\\% finished\n",
      "8e+01\\% finished\n",
      "8e+01\\% finished\n",
      "8.1e+01\\% finished\n",
      "8.1e+01\\% finished\n",
      "8.2e+01\\% finished\n",
      "8.2e+01\\% finished\n",
      "8.2e+01\\% finished\n",
      "8.3e+01\\% finished\n",
      "8.3e+01\\% finished\n",
      "8.4e+01\\% finished\n",
      "8.4e+01\\% finished\n",
      "8.4e+01\\% finished\n",
      "8.5e+01\\% finished\n",
      "8.5e+01\\% finished\n",
      "8.6e+01\\% finished\n",
      "8.6e+01\\% finished\n",
      "8.6e+01\\% finished\n",
      "8.7e+01\\% finished\n",
      "8.7e+01\\% finished\n",
      "8.8e+01\\% finished\n",
      "8.8e+01\\% finished\n",
      "8.8e+01\\% finished\n",
      "8.9e+01\\% finished\n",
      "8.9e+01\\% finished\n",
      "9e+01\\% finished\n",
      "9e+01\\% finished\n",
      "9e+01\\% finished\n",
      "9.1e+01\\% finished\n",
      "9.1e+01\\% finished\n",
      "9.2e+01\\% finished\n",
      "9.2e+01\\% finished\n",
      "9.2e+01\\% finished\n",
      "9.3e+01\\% finished\n",
      "9.3e+01\\% finished\n",
      "9.4e+01\\% finished\n",
      "9.4e+01\\% finished\n",
      "9.4e+01\\% finished\n",
      "9.5e+01\\% finished\n",
      "9.5e+01\\% finished\n",
      "9.6e+01\\% finished\n",
      "9.6e+01\\% finished\n",
      "9.6e+01\\% finished\n",
      "9.7e+01\\% finished\n",
      "9.7e+01\\% finished\n",
      "9.8e+01\\% finished\n",
      "9.8e+01\\% finished\n",
      "9.8e+01\\% finished\n",
      "9.9e+01\\% finished\n",
      "9.9e+01\\% finished\n",
      "1e+02\\% finished\n"
     ]
    }
   ],
   "source": [
    "I = re.generate_tunnelcurrent([VTmin,VTmax], num_vts_100, [VBmin,VBmax], num_vbs_100)"
   ]
  },
  {
   "cell_type": "code",
   "execution_count": 50,
   "metadata": {},
   "outputs": [],
   "source": [
    "import os\n",
    "np.save(os.path.join(os.getcwd(),'temp_current_180618.npy'), I)"
   ]
  },
  {
   "cell_type": "code",
   "execution_count": 12,
   "metadata": {},
   "outputs": [],
   "source": [
    "import os\n",
    "I = np.load(os.path.join(os.getcwd(),'temp_current_180618.npy'));"
   ]
  },
  {
   "cell_type": "code",
   "execution_count": 13,
   "metadata": {},
   "outputs": [],
   "source": [
    "IV = I / VT[:,np.newaxis]\n",
    "\n",
    "dIdV = np.gradient(I,axis=1)\n",
    "\n",
    "dIdVnorm = dIdV / IV"
   ]
  },
  {
   "cell_type": "code",
   "execution_count": 14,
   "metadata": {},
   "outputs": [
    {
     "data": {
      "image/png": "[encoded data removed]",
      "text/plain": [
       "<Figure size 504x432 with 2 Axes>"
      ]
     },
     "metadata": {},
     "output_type": "display_data"
    }
   ],
   "source": [
    "fig, ax = plt.subplots(figsize=(7,6))\n",
    "\n",
    "ax.set_xlabel('VB')\n",
    "ax.set_ylabel('VT')\n",
    "\n",
    "dIdVmap = ax.imshow(dIdVnorm.T[::-1,:], interpolation='none', cmap=cm.RdYlGn,\n",
    "            origin='lower', aspect='auto',extent = (VBmin,VBmax,VTmin,VTmax))\n",
    "plt.colorbar(dIdVmap,label=\"(dI/dV)\");"
   ]
  }
 ],
 "metadata": {
  "kernelspec": {
   "display_name": "Python 3",
   "language": "python",
   "name": "python3"
  },
  "language_info": {
   "codemirror_mode": {
    "name": "ipython",
    "version": 3
   },
   "file_extension": ".py",
   "mimetype": "text/x-python",
   "name": "python",
   "nbconvert_exporter": "python",
   "pygments_lexer": "ipython3",
   "version": "3.6.5rc1"
  }
 },
 "nbformat": 4,
 "nbformat_minor": 2
}
