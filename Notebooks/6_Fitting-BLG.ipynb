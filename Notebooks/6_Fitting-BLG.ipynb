{
 "cells": [
  {
   "cell_type": "code",
   "execution_count": 1,
   "metadata": {},
   "outputs": [],
   "source": [
    "# This cell allows then notebook to discover the package TunnelingExperiment\n",
    "# Only run this cell once. If run a second time, hit \"Kernel->Reset\" to restart\n",
    "# the notebook, then run once.\n",
    "\n",
    "import os\n",
    "moduledir = os.path.dirname( os.getcwd() )\n",
    "\n",
    "os.chdir(moduledir) # Move up one directory so we can import modules\n",
    "\n",
    "#Import libraries\n",
    "%matplotlib inline\n",
    "from ipywidgets import interactive,fixed\n",
    "import matplotlib.pyplot as plt\n",
    "import matplotlib.cm as cm\n",
    "import numpy as np\n"
   ]
  },
  {
   "cell_type": "markdown",
   "metadata": {},
   "source": [
    "# Fitting"
   ]
  },
  {
   "cell_type": "markdown",
   "metadata": {},
   "source": [
    "Example of pulling data to make an interactive plot of an image"
   ]
  },
  {
   "cell_type": "code",
   "execution_count": 2,
   "metadata": {},
   "outputs": [],
   "source": [
    "data_path = 'BLG-CHTC/raw-data'\n",
    "\n",
    "# Change to VT and VB\n",
    "VT = np.load( os.path.join(data_path,'VT.npy') )\n",
    "VB = np.load( os.path.join(data_path,'VB.npy') )\n",
    "\n",
    "# Change to d1 and Wtip\n",
    "heights = np.load( os.path.join(data_path,'height.npy') )\n",
    "Wtips = np.load( os.path.join(data_path,'Wtip.npy') )\n",
    "\n",
    "# Import Current\n",
    "Current = np.load( os.path.join(data_path, 'Current.npy') )"
   ]
  },
  {
   "cell_type": "code",
   "execution_count": 3,
   "metadata": {},
   "outputs": [],
   "source": [
    "def plot_dIdV(I,VT,VB,d1,d1_range,Wtip,Wtip_range,alpha,norm=False):\n",
    "    \"\"\"\n",
    "    Plots a color map of dI/dV spectrum (VT vs VB).\n",
    "\n",
    "    Parameters\n",
    "    ----------\n",
    "    show:       Boolean; Select \"True\" to show the image. Select \"False\" (default)\n",
    "                to simply generate it. Useful if you would just like to save the image.\n",
    "\n",
    "    save:       Boolean; Select \"True\" to save to (file location)\n",
    "\n",
    "    norm:       Boolean; Select \"True\" to normalize and plot (dI/dV)/(I/VT) spectrum.\n",
    "    \"\"\"\n",
    "    d1_index = (np.abs(d1 - d1_range)).argmin()\n",
    "    Wtip_index = (np.abs(Wtip - Wtip_range)).argmin()  \n",
    "    \n",
    "    dIdV = np.gradient(I[d1_index,Wtip_index,:,:],axis=0) # dI/dV\n",
    "\n",
    "    if norm == True:\n",
    "        IV = I / VT[:,np.newaxis] # I/V\n",
    "        dIdV = dIdV / IV\n",
    "\n",
    "    fig, ax = plt.subplots(figsize=(7,6),frameon=False)\n",
    "\n",
    "    dIdV_plot = plt.imshow(dIdV,cmap=cm.RdYlGn,origin='lower',\n",
    "                            aspect='auto',alpha=alpha,extent=(VB[0],VB[-1],1e3*VT[0],1e3*VT[-1]))\n",
    "    fig.suptitle('$dI/dV$\\n Tip Height ={} nm Work Function = {} meV'.format(d1_range[d1_index],Wtip_range[Wtip_index]))\n",
    "    cbar = fig.colorbar(dIdV_plot,label='$dI/dV$ (S)')\n",
    "    ax.set_xlabel('Gate Voltage (V)')\n",
    "    ax.set_ylabel('Tip Voltage (mV)')\n",
    "\n",
    "    plt.show()"
   ]
  },
  {
   "cell_type": "code",
   "execution_count": 4,
   "metadata": {
    "scrolled": true
   },
   "outputs": [
    {
     "data": {
      "application/vnd.jupyter.widget-view+json": {
       "model_id": "5dcf34e82b4b4f20907c05951c1e66eb",
       "version_major": 2,
       "version_minor": 0
      },
      "text/html": [
       "<p>Failed to display Jupyter Widget of type <code>interactive</code>.</p>\n",
       "<p>\n",
       "  If you're reading this message in the Jupyter Notebook or JupyterLab Notebook, it may mean\n",
       "  that the widgets JavaScript is still loading. If this message persists, it\n",
       "  likely means that the widgets JavaScript library is either not installed or\n",
       "  not enabled. See the <a href=\"https://ipywidgets.readthedocs.io/en/stable/user_install.html\">Jupyter\n",
       "  Widgets Documentation</a> for setup instructions.\n",
       "</p>\n",
       "<p>\n",
       "  If you're reading this message in another frontend (for example, a static\n",
       "  rendering on GitHub or <a href=\"https://nbviewer.jupyter.org/\">NBViewer</a>),\n",
       "  it may mean that your frontend doesn't currently support widgets.\n",
       "</p>\n"
      ],
      "text/plain": [
       "interactive(children=(FloatSlider(value=14.0, description='d1', max=26.0, min=2.0), FloatSlider(value=4900.0, description='Wtip', max=5800.0, min=4000.0), FloatSlider(value=0.5, description='alpha', max=1.0), Checkbox(value=False, description='norm'), Output(layout=Layout(height='300px'))), _dom_classes=('widget-interact',))"
      ]
     },
     "metadata": {},
     "output_type": "display_data"
    }
   ],
   "source": [
    "interactive_plot = interactive(plot_dIdV, I=fixed(Current), VT=fixed(VT), VB=fixed(VB),\n",
    "                               d1=(heights[0], heights[-1]),d1_range=fixed(heights),\n",
    "                               Wtip=(Wtips[0],Wtips[-1]),Wtip_range=fixed(Wtips),\n",
    "                              alpha=(0.,1.))\n",
    "output = interactive_plot.children[-1]\n",
    "output.layout.height = '300px'\n",
    "interactive_plot"
   ]
  }
 ],
 "metadata": {
  "kernelspec": {
   "display_name": "Python 3",
   "language": "python",
   "name": "python3"
  },
  "language_info": {
   "codemirror_mode": {
    "name": "ipython",
    "version": 3
   },
   "file_extension": ".py",
   "mimetype": "text/x-python",
   "name": "python",
   "nbconvert_exporter": "python",
   "pygments_lexer": "ipython3",
   "version": "3.6.5rc1"
  }
 },
 "nbformat": 4,
 "nbformat_minor": 2
}
